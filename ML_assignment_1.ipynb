{
  "cells": [
    {
      "metadata": {
        "collapsed": true
      },
      "cell_type": "markdown",
      "source": "## 機械学習・データ分析(2019)　課題1\n\n### このnotebookには、いくつかの課題が記載されています。\n### 先頭から順番に、指示に従ってPython Codeをcellに記述してください。\n### codeを記述するcellは、各自適切に生成してください。\n\n### 課題提出方法\n#### 各自のGitHubに、学籍番号_MD1（たとえば、C180001_MD1)という名称のrepositoryを作成してください。\n#### このnotebookを各自のGitHubのリポジトリ（学籍番号_MD1)へコピーしてください。\n#### 各自のGitHubのリポジトリをoffice 365のメールアカウントを使用して、sugimura@ccg.ac.jpへ送信してください。メールの件名は、学籍番号_MD1としてください。\n##### 【重要】指定された方法で課題を提出することも課題に含まれています。"
    },
    {
      "metadata": {},
      "cell_type": "markdown",
      "source": "#### では、課題を始めます。\n\n##### 第1問：最初に、必要なモジュールを読み込みましょう。\n\n読み込むモジュールは、\n\n+ numpy\n+ pandas\n+ matplotlib.pyplot\n\nです。\n\nさらに、このnotebookの中にグラフを表示できるようにするための命令も記述しましょう。\n"
    },
    {
      "metadata": {},
      "cell_type": "markdown",
      "source": "##### 第2問：　学生名簿CSVファイル ICT2019.csvをデータフレーム型のデータdf_ict1に読み込んでください。\n\n##### ただし、ICT2019.csvには、indexとして用いることができるIDというcolumnが存在していますが、\n##### 新たにindexが付加されるように読み込んでください。\n"
    },
    {
      "metadata": {},
      "cell_type": "markdown",
      "source": "##### 第3問：学生名簿の学生データをID（学籍番号）の昇順に並べ替えて表示してください。並べ替えたデータを保存する必要はありません。\n##### ここで、学籍番号の昇順とは、C180000<C180001<C180002<・・・＜C180999<C190000<C190001<・・・<C190999となるような順序のことです。\n\n##### pandasモジュールには、データフレームを値に基づいて並び替えるためのメソッドsort_values()があります。\n##### sort_values()メソッドを使ってください。sort_values()メソッドは、ソートに利用するcolumnを引数としてもちます。\n##### たとえば、IDという名称のcolumnを利用するならば、引数には、by='ID' を設定します。\n"
    },
    {
      "metadata": {},
      "cell_type": "markdown",
      "source": "##### 第4問：データフレーム型データdf_ict1に関して、classごとの学生数をカウントしてください。\n##### 解答は、\n##### 2S: 2名\n##### 4M: 25名\n##### 3M: 23名\n##### のように出力してください。\n\n##### ただし、df_ict1の列(column)CLASSの値は、たとえば、df_ict1.loc[:, 'CLASS']などによって取得できる。\n##### df_ict1.loc[:, 'CLASS']がdf_ict1からどんなデータを取得できるかは、各自確かめてください。\n\n\n\n"
    },
    {
      "metadata": {},
      "cell_type": "markdown",
      "source": "##### 第5問：第4問と同様に、classごとの学生数をカウントしてください。\n##### ただし、ここでは、Pythonのメソッドsum()を利用してみよう。\n##### sum()は、リストの全ての要素の合計を求めます。\n##### リストの要素がbool型であるとき、sum()は、値がTrueである要素の個数を求めることになります。\n##### なお、sum()関数には、numpy.sum()というnumpyモジュールのsum()もあります。"
    },
    {
      "metadata": {
        "trusted": true
      },
      "cell_type": "markdown",
      "source": "##### 第6問：第4問で求めた各クラスの学生数を円グラフで表示してください。"
    },
    {
      "metadata": {
        "trusted": true
      },
      "cell_type": "markdown",
      "source": "##### 第7問　リスト内包表記を使用して、2桁の奇数からなるリストを作成してください。"
    },
    {
      "metadata": {},
      "cell_type": "markdown",
      "source": "##### 第8問：Titanic号csvファイルtitanic.csvをデータフレーム型のデータdf_titanic1に読み込み、先頭の5行を表示させてください。\n##### 読み込む際に、新たなIDをデータに付加しnaiさい。"
    },
    {
      "metadata": {},
      "cell_type": "markdown",
      "source": "##### 第9問：pandasのmean関数を用いることなく、全体の平均年齢、生存者の平均年齢、死亡者の平均年齢を求めなさい。\n##### ただし、画面に表示する小数点以下の桁数は2桁としてください。\n\n##### （参考）DataFrame型データdf_titanic1の要素の値を取得する方法には、\n+ loc\n+ iloc\n+ at\n+ iat\n##### などがあります。\n##### locやilocは、行と列の範囲を指定して取得するため、取り出されたデータもDataFrame型になります。\n##### これに対して、atやiatは、指定した行と列に存在する1つの要素の値を取り出すことができます。\n##### また、locやatは、行と列のラベル名を指定しますが、ilocやiatは、行番号と列番号を指定します。"
    },
    {
      "metadata": {},
      "cell_type": "markdown",
      "source": "#### 第10問：pandasのmean関数を用いて、全体の平均年齢、生存者の平均年齢、及び、死亡者の平均年齢を求めてください。\n#### それぞれの平均年齢を求めて表示するコードは、1行で記述することができるので、全部で3行のコードだけで解答することができます。\n\n##### DataFrame型データから特定の条件を満たす行を抽出する方法\n+ 比較演算子を用いて'Survived'が1である行を抽出する方法例　----　df_titanic1[df_titanic1['Survived'] == 1]\n+ query()メソッドを用いて'Survived'が1である行を抽出する方法例 ----- df_titanic1.query('Survived == 1')\n\n##### DataFtame型データの特定の列の平均を求める方法\n##### DataFrame型データdf_titanic1の列'Age'の平均を求めるには、df_titanic1['Age'].mean()　のように記述します。返り値は、この特定の列のデータ型となります。\n##### すべての列の平均を求めるには、df_titanic1.mean()　とします。このとき、返り値のデータ型は、Series型です。\n"
    },
    {
      "metadata": {
        "trusted": true
      },
      "cell_type": "code",
      "source": "import numpy as np\nimport pandas as pd\nimport matplotlib.pyplot as plt",
      "execution_count": null,
      "outputs": []
    }
  ],
  "metadata": {
    "kernelspec": {
      "name": "python36",
      "display_name": "Python 3.6",
      "language": "python"
    },
    "language_info": {
      "mimetype": "text/x-python",
      "nbconvert_exporter": "python",
      "name": "python",
      "pygments_lexer": "ipython3",
      "version": "3.6.6",
      "file_extension": ".py",
      "codemirror_mode": {
        "version": 3,
        "name": "ipython"
      }
    }
  },
  "nbformat": 4,
  "nbformat_minor": 2
}